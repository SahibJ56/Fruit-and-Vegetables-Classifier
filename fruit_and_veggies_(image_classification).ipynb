{
  "nbformat": 4,
  "nbformat_minor": 0,
  "metadata": {
    "colab": {
      "provenance": [],
      "authorship_tag": "ABX9TyPL90+gO5FyOJ8ydl5STmHa",
      "include_colab_link": true
    },
    "kernelspec": {
      "name": "python3",
      "display_name": "Python 3"
    },
    "language_info": {
      "name": "python"
    }
  },
  "cells": [
    {
      "cell_type": "markdown",
      "metadata": {
        "id": "view-in-github",
        "colab_type": "text"
      },
      "source": [
        "<a href=\"https://colab.research.google.com/github/SahibJ56/Fruit-and-Vegetables-Classifier/blob/main/fruit_and_veggies_(image_classification).ipynb\" target=\"_parent\"><img src=\"https://colab.research.google.com/assets/colab-badge.svg\" alt=\"Open In Colab\"/></a>"
      ]
    },
    {
      "cell_type": "markdown",
      "source": [
        "Harika had made and trained deep learning model capable of classifying fruits and vegetables into their respective categories, after this now Once the model's performance is evaluated, Harika can use the trained model to classify new images of fruits and vegetables in real-time. Let’s help her now to deploy this model into an automated system at the farm for continuous use.\n",
        "\n",
        "\n",
        "\n",
        "TASK:\n",
        "\n",
        "- Load the Trained Model: The trained deep learning model needs to be loaded from the file .\n",
        "- Preprocess the New Image: The new image should be resized, normalized, and transformed (if necessary) to match the format used for training.\n",
        "- Make Predictions: The image can then be passed through the model to get the predicted class label.\n",
        "- Display the Prediction: Harika can display the class label with the highest predicted probability as the final result.\n",
        "\n",
        "\n",
        "\n",
        "\n"
      ],
      "metadata": {
        "id": "tRyKhZM3zvdx"
      }
    },
    {
      "cell_type": "code",
      "execution_count": null,
      "metadata": {
        "id": "g4S1IDG8zkDI"
      },
      "outputs": [],
      "source": [
        "!pip install tensorflow opencv-python"
      ]
    },
    {
      "cell_type": "code",
      "source": [
        "import cv2\n",
        "import numpy as np\n",
        "import tensorflow as tf\n",
        "from tensorflow.keras.models import Sequential, load_model\n",
        "from tensorflow.keras.layers import Conv2D, MaxPooling2D, Flatten, Dense, Dropout\n",
        "from tensorflow.keras.preprocessing.image import ImageDataGenerator\n",
        "from tensorflow.keras.applications.mobilenet_v2 import preprocess_input\n",
        "import os\n",
        "import matplotlib.pyplot as plt\n"
      ],
      "metadata": {
        "id": "IHLjuPaUTn9I"
      },
      "execution_count": null,
      "outputs": []
    },
    {
      "cell_type": "code",
      "source": [
        "dataset_path = '/content/fruits-360/Training' #change path when testing\n",
        "\n",
        "datagen = ImageDataGenerator(rescale=1./255, validation_split=0.2)\n",
        "\n",
        "train_generator = datagen.flow_from_directory(\n",
        "    dataset_path,\n",
        "    target_size=(224, 224),\n",
        "    batch_size=32,\n",
        "    class_mode='categorical',\n",
        "    subset='training'\n",
        ")\n",
        "\n",
        "val_generator = datagen.flow_from_directory(\n",
        "    dataset_path,\n",
        "    target_size=(224, 224),\n",
        "    batch_size=32,\n",
        "    class_mode='categorical',\n",
        "    subset='validation'\n",
        ")\n"
      ],
      "metadata": {
        "id": "VTn714SDTp1N"
      },
      "execution_count": null,
      "outputs": []
    },
    {
      "cell_type": "code",
      "source": [
        "def create_model(input_shape=(224, 224, 3), num_classes=5):\n",
        "    model = Sequential()\n",
        "\n",
        "    model.add(Conv2D(32, (3, 3), activation='relu', input_shape=input_shape))\n",
        "    model.add(MaxPooling2D(pool_size=(2, 2)))\n",
        "\n",
        "    model.add(Conv2D(64, (3, 3), activation='relu'))\n",
        "    model.add(MaxPooling2D(pool_size=(2, 2)))\n",
        "\n",
        "    model.add(Conv2D(128, (3, 3), activation='relu'))\n",
        "    model.add(MaxPooling2D(pool_size=(2, 2)))\n",
        "\n",
        "    model.add(Flatten())\n",
        "    model.add(Dense(128, activation='relu'))\n",
        "    model.add(Dropout(0.5))\n",
        "\n",
        "    model.add(Dense(num_classes, activation='softmax'))\n",
        "\n",
        "    return model\n"
      ],
      "metadata": {
        "id": "TlMFCfHKTsEb"
      },
      "execution_count": null,
      "outputs": []
    },
    {
      "cell_type": "code",
      "source": [
        "model = create_model(input_shape=(224, 224, 3), num_classes=len(train_generator.class_indices))\n",
        "\n",
        "model.compile(optimizer='adam', loss='categorical_crossentropy', metrics=['accuracy'])\n",
        "\n",
        "model.summary()\n"
      ],
      "metadata": {
        "id": "ZUP0VcKCTt5Y"
      },
      "execution_count": null,
      "outputs": []
    },
    {
      "cell_type": "code",
      "source": [
        "history = model.fit(train_generator, epochs=5, validation_data=val_generator)\n"
      ],
      "metadata": {
        "id": "LOu50FrhTvUp"
      },
      "execution_count": null,
      "outputs": []
    },
    {
      "cell_type": "code",
      "source": [
        "model.save('/content/fruit_classifier_model.h5')\n",
        "print(\"Model saved!\")\n"
      ],
      "metadata": {
        "id": "8NwIE6F6Twto"
      },
      "execution_count": null,
      "outputs": []
    },
    {
      "cell_type": "code",
      "source": [
        "loaded_model = load_model('/content/fruit_classifier_model.h5')\n",
        "print(\"Model reloaded!\")\n"
      ],
      "metadata": {
        "id": "F3Wpqb6PTx6S"
      },
      "execution_count": null,
      "outputs": []
    },
    {
      "cell_type": "code",
      "source": [
        "new_image_path = '/content/test_image.jpg' #change path when testing\n",
        "\n",
        "\n",
        "def preprocess_image(img_path):\n",
        "    img = cv2.imread(img_path)\n",
        "    if img is None:\n",
        "        raise ValueError(f\"Could not read image from {img_path}\")\n",
        "\n",
        "    img = cv2.resize(img, (224, 224))\n",
        "    img = cv2.cvtColor(img, cv2.COLOR_BGR2RGB)\n",
        "    img = preprocess_input(img)\n",
        "    img = np.expand_dims(img, axis=0)\n",
        "\n",
        "    return img\n",
        "\n",
        "\n",
        "def predict_class(model, img, class_labels):\n",
        "    predictions = model.predict(img)\n",
        "    predicted_class_index = np.argmax(predictions)\n",
        "    predicted_probability = np.max(predictions)\n",
        "    predicted_class = class_labels[predicted_class_index]\n",
        "\n",
        "    return predicted_class, predicted_probability\n",
        "\n",
        "\n",
        "class_labels = list(train_generator.class_indices.keys())\n",
        "print(\"Class labels:\", class_labels)\n",
        "\n",
        "\n",
        "preprocessed_image = preprocess_image(new_image_path)\n",
        "\n",
        "\n",
        "predicted_class, predicted_probability = predict_class(loaded_model, preprocessed_image, class_labels)\n",
        "\n",
        "\n",
        "print(f\"Predicted Class: {predicted_class}\")\n",
        "print(f\"Confidence: {predicted_probability:.2f}\")\n",
        "\n",
        "\n",
        "img_show = cv2.imread(new_image_path)\n",
        "img_show = cv2.cvtColor(img_show, cv2.COLOR_BGR2RGB)\n",
        "plt.imshow(img_show)\n",
        "plt.title(f\"Prediction: {predicted_class} ({predicted_probability:.2f})\")\n",
        "plt.axis('off')\n",
        "plt.show()\n"
      ],
      "metadata": {
        "id": "VcJGGBiPTyyo"
      },
      "execution_count": null,
      "outputs": []
    }
  ]
}